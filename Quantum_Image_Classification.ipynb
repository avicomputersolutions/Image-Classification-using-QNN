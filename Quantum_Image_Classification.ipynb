{
  "nbformat": 4,
  "nbformat_minor": 0,
  "metadata": {
    "colab": {
      "name": "Quantum Image Classification.ipynb",
      "provenance": [],
      "collapsed_sections": [],
      "authorship_tag": "ABX9TyOjjsQREc+ahNgB2gxC5yFQ",
      "include_colab_link": true
    },
    "kernelspec": {
      "name": "python3",
      "display_name": "Python 3"
    },
    "language_info": {
      "name": "python"
    }
  },
  "cells": [
    {
      "cell_type": "markdown",
      "metadata": {
        "id": "view-in-github",
        "colab_type": "text"
      },
      "source": [
        "<a href=\"https://colab.research.google.com/github/avicomputersolutions/Image-Classification-using-QNN/blob/main/Quantum_Image_Classification.ipynb\" target=\"_parent\"><img src=\"https://colab.research.google.com/assets/colab-badge.svg\" alt=\"Open In Colab\"/></a>"
      ]
    },
    {
      "cell_type": "code",
      "source": [
        "from IPython.display import clear_output\n",
        "!pip install -q tensorflow==2.3.1"
      ],
      "metadata": {
        "id": "TDWfr_tYjr9p"
      },
      "execution_count": null,
      "outputs": []
    },
    {
      "cell_type": "code",
      "source": [
        "!pip install -q tensorflow_quantum==0.4.0"
      ],
      "metadata": {
        "id": "V6VH96_bMyiF"
      },
      "execution_count": null,
      "outputs": []
    },
    {
      "cell_type": "code",
      "source": [
        "!pip install cirq==0.9.1"
      ],
      "metadata": {
        "colab": {
          "base_uri": "https://localhost:8080/"
        },
        "id": "NhHtJbkGNhHZ",
        "outputId": "29150025-fcd5-4a77-e320-a3e10b54fd2f"
      },
      "execution_count": null,
      "outputs": [
        {
          "output_type": "stream",
          "name": "stdout",
          "text": [
            "Looking in indexes: https://pypi.org/simple, https://us-python.pkg.dev/colab-wheels/public/simple/\n",
            "Requirement already satisfied: cirq==0.9.1 in /usr/local/lib/python3.7/dist-packages (0.9.1)\n",
            "Requirement already satisfied: google-api-core[grpc]<2.0.0dev,>=1.14.0 in /usr/local/lib/python3.7/dist-packages (from cirq==0.9.1) (1.31.6)\n",
            "Requirement already satisfied: scipy in /usr/local/lib/python3.7/dist-packages (from cirq==0.9.1) (1.7.3)\n",
            "Requirement already satisfied: typing-extensions in /usr/local/lib/python3.7/dist-packages (from cirq==0.9.1) (4.1.1)\n",
            "Requirement already satisfied: networkx~=2.4 in /usr/local/lib/python3.7/dist-packages (from cirq==0.9.1) (2.6.3)\n",
            "Requirement already satisfied: matplotlib~=3.0 in /usr/local/lib/python3.7/dist-packages (from cirq==0.9.1) (3.2.2)\n",
            "Requirement already satisfied: protobuf~=3.12.0 in /usr/local/lib/python3.7/dist-packages (from cirq==0.9.1) (3.12.4)\n",
            "Requirement already satisfied: numpy~=1.16 in /usr/local/lib/python3.7/dist-packages (from cirq==0.9.1) (1.18.5)\n",
            "Requirement already satisfied: sortedcontainers~=2.0 in /usr/local/lib/python3.7/dist-packages (from cirq==0.9.1) (2.4.0)\n",
            "Requirement already satisfied: sympy in /usr/local/lib/python3.7/dist-packages (from cirq==0.9.1) (1.5)\n",
            "Requirement already satisfied: requests~=2.18 in /usr/local/lib/python3.7/dist-packages (from cirq==0.9.1) (2.23.0)\n",
            "Requirement already satisfied: freezegun~=0.3.15 in /usr/local/lib/python3.7/dist-packages (from cirq==0.9.1) (0.3.15)\n",
            "Requirement already satisfied: pandas in /usr/local/lib/python3.7/dist-packages (from cirq==0.9.1) (1.3.5)\n",
            "Requirement already satisfied: python-dateutil!=2.0,>=1.0 in /usr/local/lib/python3.7/dist-packages (from freezegun~=0.3.15->cirq==0.9.1) (2.8.2)\n",
            "Requirement already satisfied: six in /usr/local/lib/python3.7/dist-packages (from freezegun~=0.3.15->cirq==0.9.1) (1.15.0)\n",
            "Requirement already satisfied: pytz in /usr/local/lib/python3.7/dist-packages (from google-api-core[grpc]<2.0.0dev,>=1.14.0->cirq==0.9.1) (2022.1)\n",
            "Requirement already satisfied: setuptools>=40.3.0 in /usr/local/lib/python3.7/dist-packages (from google-api-core[grpc]<2.0.0dev,>=1.14.0->cirq==0.9.1) (57.4.0)\n",
            "Requirement already satisfied: packaging>=14.3 in /usr/local/lib/python3.7/dist-packages (from google-api-core[grpc]<2.0.0dev,>=1.14.0->cirq==0.9.1) (21.3)\n",
            "Requirement already satisfied: googleapis-common-protos<2.0dev,>=1.6.0 in /usr/local/lib/python3.7/dist-packages (from google-api-core[grpc]<2.0.0dev,>=1.14.0->cirq==0.9.1) (1.56.0)\n",
            "Requirement already satisfied: google-auth<2.0dev,>=1.25.0 in /usr/local/lib/python3.7/dist-packages (from google-api-core[grpc]<2.0.0dev,>=1.14.0->cirq==0.9.1) (1.35.0)\n",
            "Requirement already satisfied: grpcio<2.0dev,>=1.29.0 in /usr/local/lib/python3.7/dist-packages (from google-api-core[grpc]<2.0.0dev,>=1.14.0->cirq==0.9.1) (1.47.0)\n",
            "Requirement already satisfied: cachetools<5.0,>=2.0.0 in /usr/local/lib/python3.7/dist-packages (from google-auth<2.0dev,>=1.25.0->google-api-core[grpc]<2.0.0dev,>=1.14.0->cirq==0.9.1) (4.2.4)\n",
            "Requirement already satisfied: rsa<5,>=3.1.4 in /usr/local/lib/python3.7/dist-packages (from google-auth<2.0dev,>=1.25.0->google-api-core[grpc]<2.0.0dev,>=1.14.0->cirq==0.9.1) (4.9)\n",
            "Requirement already satisfied: pyasn1-modules>=0.2.1 in /usr/local/lib/python3.7/dist-packages (from google-auth<2.0dev,>=1.25.0->google-api-core[grpc]<2.0.0dev,>=1.14.0->cirq==0.9.1) (0.2.8)\n",
            "Requirement already satisfied: cycler>=0.10 in /usr/local/lib/python3.7/dist-packages (from matplotlib~=3.0->cirq==0.9.1) (0.11.0)\n",
            "Requirement already satisfied: pyparsing!=2.0.4,!=2.1.2,!=2.1.6,>=2.0.1 in /usr/local/lib/python3.7/dist-packages (from matplotlib~=3.0->cirq==0.9.1) (3.0.9)\n",
            "Requirement already satisfied: kiwisolver>=1.0.1 in /usr/local/lib/python3.7/dist-packages (from matplotlib~=3.0->cirq==0.9.1) (1.4.4)\n",
            "Requirement already satisfied: pyasn1<0.5.0,>=0.4.6 in /usr/local/lib/python3.7/dist-packages (from pyasn1-modules>=0.2.1->google-auth<2.0dev,>=1.25.0->google-api-core[grpc]<2.0.0dev,>=1.14.0->cirq==0.9.1) (0.4.8)\n",
            "Requirement already satisfied: certifi>=2017.4.17 in /usr/local/lib/python3.7/dist-packages (from requests~=2.18->cirq==0.9.1) (2022.6.15)\n",
            "Requirement already satisfied: urllib3!=1.25.0,!=1.25.1,<1.26,>=1.21.1 in /usr/local/lib/python3.7/dist-packages (from requests~=2.18->cirq==0.9.1) (1.24.3)\n",
            "Requirement already satisfied: idna<3,>=2.5 in /usr/local/lib/python3.7/dist-packages (from requests~=2.18->cirq==0.9.1) (2.10)\n",
            "Requirement already satisfied: chardet<4,>=3.0.2 in /usr/local/lib/python3.7/dist-packages (from requests~=2.18->cirq==0.9.1) (3.0.4)\n",
            "Requirement already satisfied: mpmath>=0.19 in /usr/local/lib/python3.7/dist-packages (from sympy->cirq==0.9.1) (1.2.1)\n"
          ]
        }
      ]
    },
    {
      "cell_type": "code",
      "source": [
        "import tensorflow as tf\n",
        "import numpy as np\n",
        "from sklearn.model_selection import train_test_split\n",
        "\n",
        "import tensorflow_quantum as tfq\n",
        "import cirq as criq\n",
        "import sympy\n",
        "from cirq.contrib.svg import SVGCircuit\n",
        "import matplotlib.pyplot as plt\n"
      ],
      "metadata": {
        "id": "THfrDa7WOKac"
      },
      "execution_count": null,
      "outputs": []
    },
    {
      "cell_type": "code",
      "source": [
        "from tensorflow.keras.datasets import fashion_mnist as dataset"
      ],
      "metadata": {
        "id": "ahDRtLunPZuM"
      },
      "execution_count": null,
      "outputs": []
    },
    {
      "cell_type": "code",
      "source": [
        "(x_train, y_train), (x_test, y_test) = dataset.load_data()"
      ],
      "metadata": {
        "id": "BKy7BeAOPrHa"
      },
      "execution_count": null,
      "outputs": []
    },
    {
      "cell_type": "code",
      "source": [
        "print(\"Shape of x train data is {}\".format(x_train.shape))\n",
        "print(\"Shape of y_train data is {}\".format(y_train.shape))\n",
        "print(\"Shape of x_test data is {}\".format(x_test.shape))\n",
        "print(\"Shape of y_test data is {}\".format(y_test.shape))"
      ],
      "metadata": {
        "colab": {
          "base_uri": "https://localhost:8080/"
        },
        "id": "9zMvdTbQQDQJ",
        "outputId": "76c4d89f-0268-4c5a-b9a4-5c67a5d3440b"
      },
      "execution_count": null,
      "outputs": [
        {
          "output_type": "stream",
          "name": "stdout",
          "text": [
            "Shape of x train data is (60000, 28, 28)\n",
            "Shape of y_train data is (60000,)\n",
            "Shape of x_test data is (10000, 28, 28)\n",
            "Shape of y_test data is (10000,)\n"
          ]
        }
      ]
    },
    {
      "cell_type": "markdown",
      "source": [
        "Preprocessing Datasets\n"
      ],
      "metadata": {
        "id": "ULCoUSsaJFz_"
      }
    },
    {
      "cell_type": "code",
      "source": [
        "def filter_data(x,y):\n",
        "\n",
        "  keep= (y==3)| (y==7)\n",
        "  x,y= x[keep], y[keep]\n",
        "\n",
        "  y=y==3\n",
        "  return x,y"
      ],
      "metadata": {
        "id": "y_nmYEUGRF-L"
      },
      "execution_count": null,
      "outputs": []
    },
    {
      "cell_type": "code",
      "source": [
        "X_train, Y_train = filter_data(x_train,y_train)\n",
        "\n",
        "X_test, Y_test = filter_data(x_test,y_test)"
      ],
      "metadata": {
        "id": "Rp0f02SgJ4PU"
      },
      "execution_count": null,
      "outputs": []
    },
    {
      "cell_type": "code",
      "source": [
        "print(\"Shape of x train data is {}\".format(X_train.shape))\n",
        "print(\"Shape of y_train data is {}\".format(Y_train.shape))\n",
        "print(\"Shape of x_test data is {}\".format(X_test.shape))\n",
        "print(\"Shape of y_test data is {}\".format(Y_test.shape))"
      ],
      "metadata": {
        "colab": {
          "base_uri": "https://localhost:8080/"
        },
        "id": "Ludp9fsQKXo5",
        "outputId": "ce8692ce-52c8-48e1-80df-d8a015b2165f"
      },
      "execution_count": null,
      "outputs": [
        {
          "output_type": "stream",
          "name": "stdout",
          "text": [
            "Shape of x train data is (12000, 28, 28)\n",
            "Shape of y_train data is (12000,)\n",
            "Shape of x_test data is (2000, 28, 28)\n",
            "Shape of y_test data is (2000,)\n"
          ]
        }
      ]
    },
    {
      "cell_type": "code",
      "source": [
        "print(\"The first image has the label {}\".format(Y_train[0]))\n",
        "plt.imshow(X_train[0])\n",
        "plt.colorbar()\n",
        "plt.title(\"visualization of ther dataset\")\n",
        "plt.show()"
      ],
      "metadata": {
        "colab": {
          "base_uri": "https://localhost:8080/",
          "height": 298
        },
        "id": "Y6x4qssqLdgq",
        "outputId": "e901754c-31b2-451a-c00b-e01325e3803d"
      },
      "execution_count": null,
      "outputs": [
        {
          "output_type": "stream",
          "name": "stdout",
          "text": [
            "The first image has the label True\n"
          ]
        },
        {
          "output_type": "display_data",
          "data": {
            "text/plain": [
              "<Figure size 432x288 with 2 Axes>"
            ],
            "image/png": "[encoded data removed]"
          },
          "metadata": {
            "needs_background": "light"
          }
        }
      ]
    },
    {
      "cell_type": "code",
      "source": [
        "X_train= X_train.reshape(X_train.shape[0],*(28,28,1))\n",
        "X_test= X_test.reshape(X_test.shape[0],*(28,28,1))"
      ],
      "metadata": {
        "id": "HIbnQV3cMUvZ"
      },
      "execution_count": null,
      "outputs": []
    },
    {
      "cell_type": "code",
      "source": [
        "X_train= tf.image.resize(X_train,(2,2)).numpy()\n",
        "X_test= tf.image.resize(X_test,(2,2)).numpy()"
      ],
      "metadata": {
        "id": "RyRcRM8eNIvN"
      },
      "execution_count": null,
      "outputs": []
    },
    {
      "cell_type": "code",
      "source": [
        "plt.imshow(X_train[0,:,:,0])\n",
        "plt.colorbar()\n",
        "plt.title(\"visualization of dataset\")\n",
        "plt.show()"
      ],
      "metadata": {
        "colab": {
          "base_uri": "https://localhost:8080/",
          "height": 281
        },
        "id": "kDPPaphRN7-S",
        "outputId": "6cc83a45-2089-4eb2-9ff1-91defe42875f"
      },
      "execution_count": null,
      "outputs": [
        {
          "output_type": "display_data",
          "data": {
            "text/plain": [
              "<Figure size 432x288 with 2 Axes>"
            ],
            "image/png": "[encoded data removed]"
          },
          "metadata": {
            "needs_background": "light"
          }
        }
      ]
    },
    {
      "cell_type": "code",
      "source": [
        ""
      ],
      "metadata": {
        "id": "zIBn1ZkROOma"
      },
      "execution_count": null,
      "outputs": []
    },
    {
      "cell_type": "code",
      "source": [
        "print(\"Shape of x train data is {}\".format(X_train.shape))\n",
        "print(\"Shape of y_train data is {}\".format(Y_train.shape))\n"
      ],
      "metadata": {
        "colab": {
          "base_uri": "https://localhost:8080/"
        },
        "id": "3r91-odAdCvR",
        "outputId": "65002b24-5925-41c4-999d-610ff85905e2"
      },
      "execution_count": null,
      "outputs": [
        {
          "output_type": "stream",
          "name": "stdout",
          "text": [
            "Shape of x train data is (12000, 2, 2, 1)\n",
            "Shape of y_train data is (12000,)\n"
          ]
        }
      ]
    },
    {
      "cell_type": "markdown",
      "source": [
        "Data Encoding\n"
      ],
      "metadata": {
        "id": "13lm_bpXdl-3"
      }
    },
    {
      "cell_type": "code",
      "source": [
        "X_train= X_train.reshape(X_train.shape[0],*(1,4,1) )\n",
        "\n",
        "X_test= X_test.reshape(X_test.shape[0],*(1,4,1) )"
      ],
      "metadata": {
        "id": "lkmLW1tVdT5i"
      },
      "execution_count": null,
      "outputs": []
    },
    {
      "cell_type": "code",
      "source": [
        "print(X_train[0])"
      ],
      "metadata": {
        "colab": {
          "base_uri": "https://localhost:8080/"
        },
        "id": "m1RwJDm2eKrh",
        "outputId": "a1f3d04a-14f1-43ba-cee8-42ae82dd93d0"
      },
      "execution_count": null,
      "outputs": [
        {
          "output_type": "stream",
          "name": "stdout",
          "text": [
            "[[[ 61.5 ]\n",
            "  [ 19.25]\n",
            "  [ 83.75]\n",
            "  [106.  ]]]\n"
          ]
        }
      ]
    },
    {
      "cell_type": "code",
      "source": [
        "def binary_encode(x, threshold=0.5):\n",
        "  \n",
        "  encoded_images=list()\n",
        "  for image in x:\n",
        "    encoded_image= [1 if j > threshold else 0 for j in image[0]]\n",
        "    encoded_images.append(encoded_image)\n",
        "  return np.array(encoded_images)"
      ],
      "metadata": {
        "id": "IqVeZQ-6eR5p"
      },
      "execution_count": null,
      "outputs": []
    },
    {
      "cell_type": "code",
      "source": [
        "X_train= binary_encode(X_train)\n",
        "\n",
        "X_test= binary_encode(X_test)"
      ],
      "metadata": {
        "id": "CEofMyHvfxLg"
      },
      "execution_count": null,
      "outputs": []
    },
    {
      "cell_type": "code",
      "source": [
        "print(X_train[0])"
      ],
      "metadata": {
        "colab": {
          "base_uri": "https://localhost:8080/"
        },
        "id": "YfX5RK5egTjo",
        "outputId": "f98082e9-3423-4634-b40a-c9049f834196"
      },
      "execution_count": null,
      "outputs": [
        {
          "output_type": "stream",
          "name": "stdout",
          "text": [
            "[1 1 1 1]\n"
          ]
        }
      ]
    },
    {
      "cell_type": "code",
      "source": [
        "print(X_train.shape)"
      ],
      "metadata": {
        "colab": {
          "base_uri": "https://localhost:8080/"
        },
        "id": "WfFxkD4DgZ7X",
        "outputId": "10761a35-5daf-43ba-e6a5-1ed754f99755"
      },
      "execution_count": null,
      "outputs": [
        {
          "output_type": "stream",
          "name": "stdout",
          "text": [
            "(12000, 4)\n"
          ]
        }
      ]
    },
    {
      "cell_type": "code",
      "source": [
        "def create_circuit_from_image(encoded_image):\n",
        "  qubits= criq.GridQubit.rect(2,2)\n",
        "  circuit= criq.Circuit()\n",
        "  for i, pixel in enumerate(encoded_image):\n",
        "    if pixel:\n",
        "      circuit.append(criq.X(qubits[i]))\n",
        "  return circuit"
      ],
      "metadata": {
        "id": "YCmSskNVgjrq"
      },
      "execution_count": null,
      "outputs": []
    },
    {
      "cell_type": "code",
      "source": [
        "X_train= [create_circuit_from_image(encoded_image) for encoded_image in X_train]\n",
        "\n",
        "X_test= [create_circuit_from_image(encoded_image) for encoded_image in X_test]\n",
        "X_train[0]"
      ],
      "metadata": {
        "id": "qe4cMk2ST8_E",
        "colab": {
          "base_uri": "https://localhost:8080/",
          "height": 139
        },
        "outputId": "4e699f74-926c-4ffc-a290-9551a0008234"
      },
      "execution_count": null,
      "outputs": [
        {
          "output_type": "execute_result",
          "data": {
            "text/plain": [
              "(0, 0): ───X───\n",
              "\n",
              "(0, 1): ───X───\n",
              "\n",
              "(1, 0): ───X───\n",
              "\n",
              "(1, 1): ───X───"
            ],
            "text/html": [
              "<pre style=\"overflow: auto; white-space: pre;\">(0, 0): ───X───\n",
              "\n",
              "(0, 1): ───X───\n",
              "\n",
              "(1, 0): ───X───\n",
              "\n",
              "(1, 1): ───X───</pre>"
            ]
          },
          "metadata": {},
          "execution_count": 23
        }
      ]
    },
    {
      "cell_type": "code",
      "source": [
        "X_train_tfq=tfq.convert_to_tensor(X_train)\n",
        "\n",
        "X_test_tfq=tfq.convert_to_tensor(X_test)"
      ],
      "metadata": {
        "id": "VRDmUHD9UPf9"
      },
      "execution_count": null,
      "outputs": []
    },
    {
      "cell_type": "code",
      "source": [
        "class QNN():\n",
        "  def __init__(self,data_qubits,readout):\n",
        "    self.data_qubits=data_qubits\n",
        "    self.readout=readout\n",
        "  \n",
        "  def add_singleQubit_gate(self, circuit,gate,qubit_index):\n",
        "    for index in qubit_index:\n",
        "      circuit.append(gate(self.data_qubit[index]))\n",
        "  \n",
        "  def add_twoQubit_gate(self,circuit,gate,qubit_index):\n",
        "    if len(qubit_index)!=2:\n",
        "      raise Exception(\"the length of the list of indices passed for two qubit/gate operation must be  equal to two\")\n",
        "      circuit.append(gate(self.data_qubits[qubit_index[0]],self.data_qubits[qubit_index[1]]))\n",
        "  \n",
        "  def add_layer(self, circuit,gate,symbol_gate):\n",
        "    for i, qubit in enumerate(self.data_qubits):\n",
        "      symbol=sympy.Symbol(symbol_gate +'_'+str(i))\n",
        "      circuit.append(gate(qubit,self.readout)**symbol)"
      ],
      "metadata": {
        "id": "VoyqMARQa46g"
      },
      "execution_count": null,
      "outputs": []
    },
    {
      "cell_type": "code",
      "source": [
        "def create_qnn():\n",
        "  data_qubits=criq.GridQubit.rect(2,2)\n",
        "  readout= criq.GridQubit(-1,-1)\n",
        "  circuit=criq.Circuit()\n",
        "  circuit.append(criq.X(readout))\n",
        "  circuit.append(criq.H(readout))\n",
        "  qnn=QNN(data_qubits=data_qubits, readout=readout)\n",
        "  qnn.add_layer(circuit,criq.XX,'xx')\n",
        "  qnn.add_layer(circuit,criq.ZZ,'zz')\n",
        "  circuit.append(criq.H(readout))\n",
        "  \n",
        "  return circuit, criq.Z(readout)"
      ],
      "metadata": {
        "id": "71HkjcGGQhgZ"
      },
      "execution_count": null,
      "outputs": []
    },
    {
      "cell_type": "code",
      "source": [
        "qmodel,model_readout=create_qnn()\n"
      ],
      "metadata": {
        "id": "c5tuaNs1Sjzx"
      },
      "execution_count": null,
      "outputs": []
    },
    {
      "cell_type": "code",
      "source": [
        "SVGCircuit(qmodel)"
      ],
      "metadata": {
        "colab": {
          "base_uri": "https://localhost:8080/",
          "height": 289
        },
        "id": "U2wywmpjSp52",
        "outputId": "398a4ca1-050b-4370-b9b8-25585edf9e31"
      },
      "execution_count": null,
      "outputs": [
        {
          "output_type": "stream",
          "name": "stderr",
          "text": [
            "findfont: Font family ['Arial'] not found. Falling back to DejaVu Sans.\n"
          ]
        },
        {
          "output_type": "execute_result",
          "data": {
            "text/plain": [
              "<cirq.contrib.svg.svg.SVGCircuit at 0x7f0415cf5a50>"
            ],
            "image/svg+xml": "<svg xmlns=\"http://www.w3.org/2000/svg\" width=\"1025.5634375\" height=\"250.0\"><line x1=\"39.810625\" x2=\"995.5634375\" y1=\"25.0\" y2=\"25.0\" stroke=\"#1967d2\" stroke-width=\"1\" /><line x1=\"39.810625\" x2=\"995.5634375\" y1=\"75.0\" y2=\"75.0\" stroke=\"#1967d2\" stroke-width=\"1\" /><line x1=\"39.810625\" x2=\"995.5634375\" y1=\"125.0\" y2=\"125.0\" stroke=\"#1967d2\" stroke-width=\"1\" /><line x1=\"39.810625\" x2=\"995.5634375\" y1=\"175.0\" y2=\"175.0\" stroke=\"#1967d2\" stroke-width=\"1\" /><line x1=\"39.810625\" x2=\"995.5634375\" y1=\"225.0\" y2=\"225.0\" stroke=\"#1967d2\" stroke-width=\"1\" /><line x1=\"245.6424609375\" x2=\"245.6424609375\" y1=\"25.0\" y2=\"75.0\" stroke=\"black\" stroke-width=\"3\" /><line x1=\"337.50332031249997\" x2=\"337.50332031249997\" y1=\"25.0\" y2=\"125.0\" stroke=\"black\" stroke-width=\"3\" /><line x1=\"429.12792968749994\" x2=\"429.12792968749994\" y1=\"25.0\" y2=\"175.0\" stroke=\"black\" stroke-width=\"3\" /><line x1=\"520.8378515625\" x2=\"520.8378515625\" y1=\"25.0\" y2=\"225.0\" stroke=\"black\" stroke-width=\"3\" /><line x1=\"611.7414062499998\" x2=\"611.7414062499998\" y1=\"25.0\" y2=\"75.0\" stroke=\"black\" stroke-width=\"3\" /><line x1=\"701.51703125\" x2=\"701.51703125\" y1=\"25.0\" y2=\"125.0\" stroke=\"black\" stroke-width=\"3\" /><line x1=\"791.0564062499999\" x2=\"791.0564062499999\" y1=\"25.0\" y2=\"175.0\" stroke=\"black\" stroke-width=\"3\" /><line x1=\"880.68109375\" x2=\"880.68109375\" y1=\"25.0\" y2=\"225.0\" stroke=\"black\" stroke-width=\"3\" /><rect x=\"10.0\" y=\"5.0\" width=\"59.62125\" height=\"40\" stroke=\"black\" fill=\"white\" stroke-width=\"0\" /><text x=\"39.810625\" y=\"25.0\" dominant-baseline=\"middle\" text-anchor=\"middle\" font-size=\"14px\" font-family=\"Arial\">(-1, -1): </text><rect x=\"10.0\" y=\"55.0\" width=\"59.62125\" height=\"40\" stroke=\"black\" fill=\"white\" stroke-width=\"0\" /><text x=\"39.810625\" y=\"75.0\" dominant-baseline=\"middle\" text-anchor=\"middle\" font-size=\"14px\" font-family=\"Arial\">(0, 0): </text><rect x=\"10.0\" y=\"105.0\" width=\"59.62125\" height=\"40\" stroke=\"black\" fill=\"white\" stroke-width=\"0\" /><text x=\"39.810625\" y=\"125.0\" dominant-baseline=\"middle\" text-anchor=\"middle\" font-size=\"14px\" font-family=\"Arial\">(0, 1): </text><rect x=\"10.0\" y=\"155.0\" width=\"59.62125\" height=\"40\" stroke=\"black\" fill=\"white\" stroke-width=\"0\" /><text x=\"39.810625\" y=\"175.0\" dominant-baseline=\"middle\" text-anchor=\"middle\" font-size=\"14px\" font-family=\"Arial\">(1, 0): </text><rect x=\"10.0\" y=\"205.0\" width=\"59.62125\" height=\"40\" stroke=\"black\" fill=\"white\" stroke-width=\"0\" /><text x=\"39.810625\" y=\"225.0\" dominant-baseline=\"middle\" text-anchor=\"middle\" font-size=\"14px\" font-family=\"Arial\">(1, 1): </text><rect x=\"89.62125\" y=\"5.0\" width=\"40\" height=\"40\" stroke=\"black\" fill=\"white\" stroke-width=\"1\" /><text x=\"109.62125\" y=\"25.0\" dominant-baseline=\"middle\" text-anchor=\"middle\" font-size=\"18px\" font-family=\"Arial\">X</text><rect x=\"149.62125\" y=\"5.0\" width=\"40\" height=\"40\" stroke=\"black\" fill=\"white\" stroke-width=\"1\" /><text x=\"169.62125\" y=\"25.0\" dominant-baseline=\"middle\" text-anchor=\"middle\" font-size=\"18px\" font-family=\"Arial\">H</text><rect x=\"209.62125\" y=\"55.0\" width=\"72.042421875\" height=\"40\" stroke=\"black\" fill=\"white\" stroke-width=\"1\" /><text x=\"245.6424609375\" y=\"75.0\" dominant-baseline=\"middle\" text-anchor=\"middle\" font-size=\"14px\" font-family=\"Arial\">XX^xx_0</text><rect x=\"209.62125\" y=\"5.0\" width=\"72.042421875\" height=\"40\" stroke=\"black\" fill=\"white\" stroke-width=\"1\" /><text x=\"245.6424609375\" y=\"25.0\" dominant-baseline=\"middle\" text-anchor=\"middle\" font-size=\"14px\" font-family=\"Arial\">XX</text><rect x=\"301.663671875\" y=\"105.0\" width=\"71.679296875\" height=\"40\" stroke=\"black\" fill=\"white\" stroke-width=\"1\" /><text x=\"337.50332031249997\" y=\"125.0\" dominant-baseline=\"middle\" text-anchor=\"middle\" font-size=\"14px\" font-family=\"Arial\">XX^xx_1</text><rect x=\"301.663671875\" y=\"5.0\" width=\"71.679296875\" height=\"40\" stroke=\"black\" fill=\"white\" stroke-width=\"1\" /><text x=\"337.50332031249997\" y=\"25.0\" dominant-baseline=\"middle\" text-anchor=\"middle\" font-size=\"14px\" font-family=\"Arial\">XX</text><rect x=\"393.34296874999995\" y=\"155.0\" width=\"71.569921875\" height=\"40\" stroke=\"black\" fill=\"white\" stroke-width=\"1\" /><text x=\"429.12792968749994\" y=\"175.0\" dominant-baseline=\"middle\" text-anchor=\"middle\" font-size=\"14px\" font-family=\"Arial\">XX^xx_2</text><rect x=\"393.34296874999995\" y=\"5.0\" width=\"71.569921875\" height=\"40\" stroke=\"black\" fill=\"white\" stroke-width=\"1\" /><text x=\"429.12792968749994\" y=\"25.0\" dominant-baseline=\"middle\" text-anchor=\"middle\" font-size=\"14px\" font-family=\"Arial\">XX</text><rect x=\"484.91289062499993\" y=\"205.0\" width=\"71.849921875\" height=\"40\" stroke=\"black\" fill=\"white\" stroke-width=\"1\" /><text x=\"520.8378515625\" y=\"225.0\" dominant-baseline=\"middle\" text-anchor=\"middle\" font-size=\"14px\" font-family=\"Arial\">XX^xx_3</text><rect x=\"484.91289062499993\" y=\"5.0\" width=\"71.849921875\" height=\"40\" stroke=\"black\" fill=\"white\" stroke-width=\"1\" /><text x=\"520.8378515625\" y=\"25.0\" dominant-baseline=\"middle\" text-anchor=\"middle\" font-size=\"14px\" font-family=\"Arial\">XX</text><rect x=\"576.7628124999999\" y=\"55.0\" width=\"69.9571875\" height=\"40\" stroke=\"black\" fill=\"white\" stroke-width=\"1\" /><text x=\"611.7414062499998\" y=\"75.0\" dominant-baseline=\"middle\" text-anchor=\"middle\" font-size=\"14px\" font-family=\"Arial\">ZZ^zz_0</text><rect x=\"576.7628124999999\" y=\"5.0\" width=\"69.9571875\" height=\"40\" stroke=\"black\" fill=\"white\" stroke-width=\"1\" /><text x=\"611.7414062499998\" y=\"25.0\" dominant-baseline=\"middle\" text-anchor=\"middle\" font-size=\"14px\" font-family=\"Arial\">ZZ</text><rect x=\"666.7199999999999\" y=\"105.0\" width=\"69.5940625\" height=\"40\" stroke=\"black\" fill=\"white\" stroke-width=\"1\" /><text x=\"701.51703125\" y=\"125.0\" dominant-baseline=\"middle\" text-anchor=\"middle\" font-size=\"14px\" font-family=\"Arial\">ZZ^zz_1</text><rect x=\"666.7199999999999\" y=\"5.0\" width=\"69.5940625\" height=\"40\" stroke=\"black\" fill=\"white\" stroke-width=\"1\" /><text x=\"701.51703125\" y=\"25.0\" dominant-baseline=\"middle\" text-anchor=\"middle\" font-size=\"14px\" font-family=\"Arial\">ZZ</text><rect x=\"756.3140624999999\" y=\"155.0\" width=\"69.4846875\" height=\"40\" stroke=\"black\" fill=\"white\" stroke-width=\"1\" /><text x=\"791.0564062499999\" y=\"175.0\" dominant-baseline=\"middle\" text-anchor=\"middle\" font-size=\"14px\" font-family=\"Arial\">ZZ^zz_2</text><rect x=\"756.3140624999999\" y=\"5.0\" width=\"69.4846875\" height=\"40\" stroke=\"black\" fill=\"white\" stroke-width=\"1\" /><text x=\"791.0564062499999\" y=\"25.0\" dominant-baseline=\"middle\" text-anchor=\"middle\" font-size=\"14px\" font-family=\"Arial\">ZZ</text><rect x=\"845.7987499999999\" y=\"205.0\" width=\"69.76468750000001\" height=\"40\" stroke=\"black\" fill=\"white\" stroke-width=\"1\" /><text x=\"880.68109375\" y=\"225.0\" dominant-baseline=\"middle\" text-anchor=\"middle\" font-size=\"14px\" font-family=\"Arial\">ZZ^zz_3</text><rect x=\"845.7987499999999\" y=\"5.0\" width=\"69.76468750000001\" height=\"40\" stroke=\"black\" fill=\"white\" stroke-width=\"1\" /><text x=\"880.68109375\" y=\"25.0\" dominant-baseline=\"middle\" text-anchor=\"middle\" font-size=\"14px\" font-family=\"Arial\">ZZ</text><rect x=\"935.5634375\" y=\"5.0\" width=\"40\" height=\"40\" stroke=\"black\" fill=\"white\" stroke-width=\"1\" /><text x=\"955.5634375\" y=\"25.0\" dominant-baseline=\"middle\" text-anchor=\"middle\" font-size=\"18px\" font-family=\"Arial\">H</text></svg>"
          },
          "metadata": {},
          "execution_count": 28
        }
      ]
    },
    {
      "cell_type": "code",
      "source": [
        "model=tf.keras.Sequential([\n",
        "    tf.keras.layers.Input(shape=(), dtype=tf.string),\n",
        "    tfq.layers.PQC(qmodel,model_readout)\n",
        "])"
      ],
      "metadata": {
        "id": "r0digszxTovc"
      },
      "execution_count": null,
      "outputs": []
    },
    {
      "cell_type": "code",
      "source": [
        "Y_train_h=np.array([1 if i==1 else -1 for i in Y_train])\n",
        "\n",
        "Y_test_h=np.array([1 if i==1 else -1 for i in Y_test])"
      ],
      "metadata": {
        "id": "6uJQkDxBUXJc"
      },
      "execution_count": null,
      "outputs": []
    },
    {
      "cell_type": "code",
      "source": [
        "def hinge_accuracy(y_true, y_pred):\n",
        "  y_true=tf.squeeze(y_true) > 0.0\n",
        "  y_pred=tf.squeeze(y_pred) > 0.0\n",
        "  result=tf.cast(y_true == y_pred,tf.float32)\n",
        "  return tf.reduce_mean(result)"
      ],
      "metadata": {
        "id": "GaPsqa55WICs"
      },
      "execution_count": null,
      "outputs": []
    },
    {
      "cell_type": "code",
      "source": [
        "model.compile(loss=tf.keras.losses.Hinge(),\n",
        "              optimizer=tf.keras.optimizers.RMSprop(lr=0.001,  momentum=0.9, ),\n",
        "              metrics=[hinge_accuracy])"
      ],
      "metadata": {
        "id": "9tIDSp0bW_nU"
      },
      "execution_count": null,
      "outputs": []
    },
    {
      "cell_type": "code",
      "source": [
        "history=model.fit(X_train_tfq,Y_train_h,\n",
        "                       batch_size=8,\n",
        "                       epochs=20,\n",
        "                   validation_split=0.3,\n",
        "                       verbose=1\n",
        "                       )"
      ],
      "metadata": {
        "colab": {
          "base_uri": "https://localhost:8080/"
        },
        "id": "A25t9ccZXl1E",
        "outputId": "1538302f-2bb7-4c7d-9f83-e43897e6da3f"
      },
      "execution_count": null,
      "outputs": [
        {
          "output_type": "stream",
          "name": "stdout",
          "text": [
            "Epoch 1/20\n",
            "1050/1050 [==============================] - 10s 10ms/step - loss: 0.6838 - hinge_accuracy: 0.6832 - val_loss: 0.6894 - val_hinge_accuracy: 0.6983\n",
            "Epoch 2/20\n",
            "1050/1050 [==============================] - 9s 9ms/step - loss: 0.6839 - hinge_accuracy: 0.6870 - val_loss: 0.6906 - val_hinge_accuracy: 0.6983\n",
            "Epoch 3/20\n",
            "1050/1050 [==============================] - 9s 9ms/step - loss: 0.6820 - hinge_accuracy: 0.6846 - val_loss: 0.6926 - val_hinge_accuracy: 0.6983\n",
            "Epoch 4/20\n",
            "1050/1050 [==============================] - 9s 9ms/step - loss: 0.6833 - hinge_accuracy: 0.6832 - val_loss: 0.6909 - val_hinge_accuracy: 0.6983\n",
            "Epoch 5/20\n",
            "1050/1050 [==============================] - 9s 8ms/step - loss: 0.6824 - hinge_accuracy: 0.6843 - val_loss: 0.6920 - val_hinge_accuracy: 0.6983\n",
            "Epoch 6/20\n",
            "1050/1050 [==============================] - 9s 8ms/step - loss: 0.6821 - hinge_accuracy: 0.6893 - val_loss: 0.6952 - val_hinge_accuracy: 0.6503\n",
            "Epoch 7/20\n",
            "1050/1050 [==============================] - 9s 8ms/step - loss: 0.6840 - hinge_accuracy: 0.6795 - val_loss: 0.6901 - val_hinge_accuracy: 0.6983\n",
            "Epoch 8/20\n",
            "1050/1050 [==============================] - 9s 8ms/step - loss: 0.6840 - hinge_accuracy: 0.6846 - val_loss: 0.6891 - val_hinge_accuracy: 0.6983\n",
            "Epoch 9/20\n",
            "1050/1050 [==============================] - 9s 8ms/step - loss: 0.6841 - hinge_accuracy: 0.6907 - val_loss: 0.6924 - val_hinge_accuracy: 0.6503\n",
            "Epoch 10/20\n",
            "1050/1050 [==============================] - 9s 8ms/step - loss: 0.6833 - hinge_accuracy: 0.6874 - val_loss: 0.6886 - val_hinge_accuracy: 0.6983\n",
            "Epoch 11/20\n",
            "1050/1050 [==============================] - 8s 8ms/step - loss: 0.6842 - hinge_accuracy: 0.6851 - val_loss: 0.6887 - val_hinge_accuracy: 0.6983\n",
            "Epoch 12/20\n",
            "1050/1050 [==============================] - 12s 12ms/step - loss: 0.6842 - hinge_accuracy: 0.6858 - val_loss: 0.6933 - val_hinge_accuracy: 0.6914\n",
            "Epoch 13/20\n",
            "1050/1050 [==============================] - 8s 8ms/step - loss: 0.6835 - hinge_accuracy: 0.6858 - val_loss: 0.6878 - val_hinge_accuracy: 0.6983\n",
            "Epoch 14/20\n",
            "1050/1050 [==============================] - 9s 8ms/step - loss: 0.6842 - hinge_accuracy: 0.6929 - val_loss: 0.6910 - val_hinge_accuracy: 0.6983\n",
            "Epoch 15/20\n",
            "1050/1050 [==============================] - 9s 8ms/step - loss: 0.6820 - hinge_accuracy: 0.6749 - val_loss: 0.6896 - val_hinge_accuracy: 0.6503\n",
            "Epoch 16/20\n",
            "1050/1050 [==============================] - 9s 9ms/step - loss: 0.6820 - hinge_accuracy: 0.6811 - val_loss: 0.6882 - val_hinge_accuracy: 0.6983\n",
            "Epoch 17/20\n",
            "1050/1050 [==============================] - 9s 8ms/step - loss: 0.6833 - hinge_accuracy: 0.6871 - val_loss: 0.6875 - val_hinge_accuracy: 0.6983\n",
            "Epoch 18/20\n",
            "1050/1050 [==============================] - 8s 8ms/step - loss: 0.6834 - hinge_accuracy: 0.6858 - val_loss: 0.6880 - val_hinge_accuracy: 0.6983\n",
            "Epoch 19/20\n",
            "1050/1050 [==============================] - 9s 8ms/step - loss: 0.6838 - hinge_accuracy: 0.6873 - val_loss: 0.6869 - val_hinge_accuracy: 0.6983\n",
            "Epoch 20/20\n",
            "1050/1050 [==============================] - 9s 9ms/step - loss: 0.6824 - hinge_accuracy: 0.6781 - val_loss: 0.6878 - val_hinge_accuracy: 0.6983\n"
          ]
        }
      ]
    },
    {
      "cell_type": "code",
      "source": [
        "model.evaluate(X_test_tfq,Y_test_h)\n"
      ],
      "metadata": {
        "colab": {
          "base_uri": "https://localhost:8080/"
        },
        "id": "DycPUPLFYDip",
        "outputId": "60fce413-d732-467c-b742-672011e471fd"
      },
      "execution_count": null,
      "outputs": [
        {
          "output_type": "stream",
          "name": "stdout",
          "text": [
            "63/63 [==============================] - 1s 18ms/step - loss: 0.6773 - hinge_accuracy: 0.7054\n"
          ]
        },
        {
          "output_type": "execute_result",
          "data": {
            "text/plain": [
              "[0.6773092150688171, 0.7053571343421936]"
            ]
          },
          "metadata": {},
          "execution_count": 44
        }
      ]
    },
    {
      "cell_type": "code",
      "source": [
        "plt.title('Accuracy')\n",
        "plt.plot(history.history['hinge_accuracy'], label='train')\n",
        "plt.plot(history.history['val_hinge_accuracy'], label='test')\n",
        "plt.xlabel('Epochs')\n",
        "plt.ylabel('Calculated Accuracy')\n",
        "plt.legend()\n",
        "plt.show()"
      ],
      "metadata": {
        "colab": {
          "base_uri": "https://localhost:8080/",
          "height": 295
        },
        "id": "63RH2_2jYRdr",
        "outputId": "c8860cb1-74eb-4f33-e5e9-2756dcb4ddfc"
      },
      "execution_count": null,
      "outputs": [
        {
          "output_type": "display_data",
          "data": {
            "text/plain": [
              "<Figure size 432x288 with 1 Axes>"
            ],
            "image/png": "[encoded data removed]"
          },
          "metadata": {
            "needs_background": "light"
          }
        }
      ]
    },
    {
      "cell_type": "code",
      "source": [
        "plt.title('Loss')\n",
        "plt.plot(history.history['loss'], label='train')\n",
        "plt.plot(history.history['val_loss'], label='test')\n",
        "plt.xlabel('Epochs')\n",
        "plt.ylabel('Calculated Loss')\n",
        "plt.legend()\n",
        "plt.show()"
      ],
      "metadata": {
        "colab": {
          "base_uri": "https://localhost:8080/",
          "height": 295
        },
        "id": "gQpaKc7BfRa5",
        "outputId": "775f68d8-6b20-4ece-8e1c-1164df47625a"
      },
      "execution_count": null,
      "outputs": [
        {
          "output_type": "display_data",
          "data": {
            "text/plain": [
              "<Figure size 432x288 with 1 Axes>"
            ],
            "image/png": "[encoded data removed]"
          },
          "metadata": {
            "needs_background": "light"
          }
        }
      ]
    },
    {
      "cell_type": "code",
      "source": [
        ""
      ],
      "metadata": {
        "id": "8A0KTImHjTNP"
      },
      "execution_count": null,
      "outputs": []
    }
  ]
}